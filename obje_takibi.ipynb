{
 "cells": [
  {
   "cell_type": "markdown",
   "id": "8ab36fd6-61f9-4343-84bd-64cc26c2d364",
   "metadata": {},
   "source": [
    "# Obje Takibi"
   ]
  },
  {
   "cell_type": "code",
   "execution_count": 1,
   "id": "636546ae-acfa-4f3f-8042-653454a5525f",
   "metadata": {},
   "outputs": [],
   "source": [
    "import cv2 \n",
    "import time\n",
    "import mediapipe as mp"
   ]
  },
  {
   "cell_type": "code",
   "execution_count": 4,
   "id": "fa2080f2-b6ca-438a-8fe0-59d640618cfc",
   "metadata": {},
   "outputs": [],
   "source": [
    "capture=cv2.VideoCapture(0) #1,2 numarasını yazabilrisn başka kamerelerın varsa vs\n"
   ]
  },
  {
   "cell_type": "code",
   "execution_count": 5,
   "id": "38d9b0e6-068f-48c1-9930-be36267e1262",
   "metadata": {},
   "outputs": [
    {
     "name": "stdout",
     "output_type": "stream",
     "text": [
      "1280\n",
      "720\n"
     ]
    }
   ],
   "source": [
    "width= int(capture.get(cv2.CAP_PROP_FRAME_WIDTH))\n",
    "height= int(capture.get(cv2.CAP_PROP_FRAME_HEIGHT)) \n",
    "\n",
    "print(width)\n",
    "print(height)\n",
    "#1280ile 720 piksel kamera ile çekşyor şuan\n"
   ]
  },
  {
   "cell_type": "code",
   "execution_count": null,
   "id": "807012d1-1e84-4867-940e-1c584d0d4da4",
   "metadata": {},
   "outputs": [],
   "source": [
    "#python kamera açma işlemlerine giriştik kamera_video.py dosyası açtık"
   ]
  },
  {
   "cell_type": "markdown",
   "id": "4b41a115-ce08-45b8-9c5b-761da5e11171",
   "metadata": {},
   "source": [
    "DERS 2 GERÇEK ZAMANLI EL TESPİTİ"
   ]
  },
  {
   "cell_type": "code",
   "execution_count": null,
   "id": "bd51b393-461f-431e-9c06-c03080555577",
   "metadata": {},
   "outputs": [],
   "source": [
    "qq"
   ]
  }
 ],
 "metadata": {
  "kernelspec": {
   "display_name": "Python 3 (ipykernel)",
   "language": "python",
   "name": "python3"
  },
  "language_info": {
   "codemirror_mode": {
    "name": "ipython",
    "version": 3
   },
   "file_extension": ".py",
   "mimetype": "text/x-python",
   "name": "python",
   "nbconvert_exporter": "python",
   "pygments_lexer": "ipython3",
   "version": "3.10.10"
  }
 },
 "nbformat": 4,
 "nbformat_minor": 5
}
